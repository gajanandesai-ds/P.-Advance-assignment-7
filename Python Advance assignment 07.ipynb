{
 "cells": [
  {
   "cell_type": "raw",
   "id": "a3c10f26",
   "metadata": {},
   "source": [
    "Q1. What is the purpose of the try statement?"
   ]
  },
  {
   "cell_type": "raw",
   "id": "abeab48f",
   "metadata": {},
   "source": [
    "ans: The try statement allows a programmer to define a block of code to be tested for errors while it is being executed. The catch statement allows you to define a block of code to executed if an error occurs in the try block."
   ]
  },
  {
   "cell_type": "code",
   "execution_count": null,
   "id": "ac969a00",
   "metadata": {},
   "outputs": [],
   "source": []
  },
  {
   "cell_type": "code",
   "execution_count": null,
   "id": "499a62b5",
   "metadata": {},
   "outputs": [],
   "source": []
  },
  {
   "cell_type": "raw",
   "id": "564dc260",
   "metadata": {},
   "source": [
    "Q2. What are the two most popular try statement variations?"
   ]
  },
  {
   "cell_type": "raw",
   "id": "5790a86c",
   "metadata": {},
   "source": [
    "ans: \n",
    "Variation 1:\n",
    "try: # Some code except: executed error in the try block\n",
    "\n",
    "Variation 2:\n",
    "Try : # Some code except: Executed error in the try block elseexecuted if no exception.\n",
    "\n",
    "variation 3:\n",
    "Try : # some code except: Executed if error in the Try block else: execute if no exception finally some code (alwayse executed)."
   ]
  },
  {
   "cell_type": "code",
   "execution_count": null,
   "id": "55ffd7a1",
   "metadata": {},
   "outputs": [],
   "source": []
  },
  {
   "cell_type": "code",
   "execution_count": null,
   "id": "30080c01",
   "metadata": {},
   "outputs": [],
   "source": []
  },
  {
   "cell_type": "raw",
   "id": "4f1de7dc",
   "metadata": {},
   "source": [
    "Q3. What is the purpose of the raise statement?"
   ]
  },
  {
   "cell_type": "raw",
   "id": "6eed2519",
   "metadata": {},
   "source": [
    "ans: python kewword is used to raised exceptions or erros, The raise keywor raised an error ans stop the control flow of the programm. it is used to bring up  the current exception in an exception hander  so that it can be handler further up the call stack.\n",
    "\n",
    "(The raise  keyword is used to raise an exception we can define what kind of error to raise and the text to print to the user.)"
   ]
  },
  {
   "cell_type": "code",
   "execution_count": 10,
   "id": "27ae7e32",
   "metadata": {},
   "outputs": [
    {
     "ename": "Exception",
     "evalue": "The number shouldnot be an odd integer",
     "output_type": "error",
     "traceback": [
      "\u001b[0;31m---------------------------------------------------------------------------\u001b[0m",
      "\u001b[0;31mException\u001b[0m                                 Traceback (most recent call last)",
      "\u001b[0;32m<ipython-input-10-9882edd0e2ad>\u001b[0m in \u001b[0;36m<module>\u001b[0;34m\u001b[0m\n\u001b[1;32m      2\u001b[0m \u001b[0;34m\u001b[0m\u001b[0m\n\u001b[1;32m      3\u001b[0m \u001b[0;32mif\u001b[0m \u001b[0ma\u001b[0m \u001b[0;34m%\u001b[0m\u001b[0;36m2\u001b[0m \u001b[0;34m!=\u001b[0m\u001b[0;36m0\u001b[0m\u001b[0;34m:\u001b[0m\u001b[0;34m\u001b[0m\u001b[0;34m\u001b[0m\u001b[0m\n\u001b[0;32m----> 4\u001b[0;31m     \u001b[0;32mraise\u001b[0m \u001b[0mException\u001b[0m\u001b[0;34m(\u001b[0m\u001b[0;34m\"The number shouldnot be an odd integer\"\u001b[0m\u001b[0;34m)\u001b[0m\u001b[0;34m\u001b[0m\u001b[0;34m\u001b[0m\u001b[0m\n\u001b[0m",
      "\u001b[0;31mException\u001b[0m: The number shouldnot be an odd integer"
     ]
    }
   ],
   "source": [
    "a=5\n",
    "\n",
    "if a %2 !=0:\n",
    "    raise Exception(\"The number shouldnot be an odd integer\")"
   ]
  },
  {
   "cell_type": "code",
   "execution_count": 9,
   "id": "49ed1ad3",
   "metadata": {},
   "outputs": [
    {
     "ename": "SyntaxError",
     "evalue": "invalid syntax (<ipython-input-9-97c9653cd06f>, line 2)",
     "output_type": "error",
     "traceback": [
      "\u001b[0;36m  File \u001b[0;32m\"<ipython-input-9-97c9653cd06f>\"\u001b[0;36m, line \u001b[0;32m2\u001b[0m\n\u001b[0;31m    if not type (input) is int:\u001b[0m\n\u001b[0m                              ^\u001b[0m\n\u001b[0;31mSyntaxError\u001b[0m\u001b[0;31m:\u001b[0m invalid syntax\n"
     ]
    }
   ],
   "source": [
    "input =(input(\"enter the input:\")\n",
    "if not type (input) is int:\n",
    "    raise TypeError (\"only integer are allowed\")"
   ]
  },
  {
   "cell_type": "code",
   "execution_count": null,
   "id": "d5249c0e",
   "metadata": {},
   "outputs": [],
   "source": []
  },
  {
   "cell_type": "code",
   "execution_count": null,
   "id": "1a563a5e",
   "metadata": {},
   "outputs": [],
   "source": []
  },
  {
   "cell_type": "raw",
   "id": "0622eccb",
   "metadata": {},
   "source": [
    "Q4. What does the assert statement do, and what other statement is it like?"
   ]
  },
  {
   "cell_type": "raw",
   "id": "febb93bd",
   "metadata": {},
   "source": [
    "ans: An assert statement check whether a condition is true, if  a condition evaluvates to true, a programme will keep running. if a condition is false, the programme will return an assertion error. At this point the programme will stop executing. Assertion is like a raise statement."
   ]
  },
  {
   "cell_type": "code",
   "execution_count": null,
   "id": "cd797b86",
   "metadata": {},
   "outputs": [],
   "source": []
  },
  {
   "cell_type": "code",
   "execution_count": null,
   "id": "7cdcf942",
   "metadata": {},
   "outputs": [],
   "source": []
  },
  {
   "cell_type": "raw",
   "id": "8fd46af9",
   "metadata": {},
   "source": [
    "Q5. What is the purpose of the with/as argument, and what other statement is it like?"
   ]
  },
  {
   "cell_type": "raw",
   "id": "dad090b3",
   "metadata": {},
   "source": [
    "ans:The with statement  in python is used for resourse mangement and execution handling. We use it while working with file streams. For example, the statement ensure that the file strems process doesnt block others process if an exception is raised, but terminates properly.we can use a try statement or block it is somewhat similar to with."
   ]
  },
  {
   "cell_type": "code",
   "execution_count": null,
   "id": "6f929899",
   "metadata": {},
   "outputs": [],
   "source": []
  },
  {
   "cell_type": "code",
   "execution_count": null,
   "id": "caa5c347",
   "metadata": {},
   "outputs": [],
   "source": []
  }
 ],
 "metadata": {
  "kernelspec": {
   "display_name": "Python 3",
   "language": "python",
   "name": "python3"
  },
  "language_info": {
   "codemirror_mode": {
    "name": "ipython",
    "version": 3
   },
   "file_extension": ".py",
   "mimetype": "text/x-python",
   "name": "python",
   "nbconvert_exporter": "python",
   "pygments_lexer": "ipython3",
   "version": "3.8.8"
  }
 },
 "nbformat": 4,
 "nbformat_minor": 5
}
